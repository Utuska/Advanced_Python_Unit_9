{
 "cells": [
  {
   "cell_type": "code",
   "execution_count": 1,
   "metadata": {},
   "outputs": [],
   "source": [
    "import pandas as pd"
   ]
  },
  {
   "cell_type": "code",
   "execution_count": 134,
   "metadata": {},
   "outputs": [
    {
     "name": "stdout",
     "output_type": "stream",
     "text": [
      "Количество полов {'M': [150480, 106469, 106210], 'F': [299798, 239345, 233023]}\n",
      "Динамика количества имен  {'M': [150480, 106469, 106210], 'F': [299798, 239345, 233023]}\n",
      "Топ имен  ['William', 'John', 'Mary']\n"
     ]
    }
   ],
   "source": [
    "def count_top(*arg):\n",
    "    count_M = []\n",
    "    count_F = []\n",
    "    dynamics_gender = {}\n",
    "    \n",
    "    number_name_M = []\n",
    "    number_name_F = []\n",
    "    dynamics_counts = {}\n",
    "    \n",
    "    df_sum = []\n",
    "    top_name = []\n",
    "    for annum in arg:\n",
    "        a = annum\n",
    "        sum_M = 0\n",
    "        sum_F = 0\n",
    "        df = pd.read_csv(f'name/yob{annum}.txt', names=['Names', 'Gender', 'Count'])\n",
    "        \n",
    "        count_name = df[df['Gender'] == 'F']\n",
    "        for item in count_name['Count']:\n",
    "            sum_F = sum_F + int(item)\n",
    "        number_name_F.append(sum_F)\n",
    "        count_name = df[df['Gender'] == 'M']\n",
    "        for item in count_name['Count']:\n",
    "            sum_M = sum_M + int(item)\n",
    "        number_name_M.append(sum_M)\n",
    "        \n",
    "        M = df['Gender'].value_counts().loc['M']\n",
    "        count_M.append(M)\n",
    "        F = df['Gender'].value_counts().loc['F']\n",
    "        count_F.append(F)\n",
    "        \n",
    "        df_sum.append(df)\n",
    "    \n",
    "    if len(df_sum) == 2:\n",
    "        df_res = pd.concat([df_sum[0], df_sum[1]])\n",
    "    elif len(df_sum) == 3:\n",
    "        df_res = pd.concat([df_sum[0], df_sum[1], df_sum[2]])\n",
    "    elif len(df_sum) == 4:\n",
    "        df_res = pd.concat([df_sum[0], df_sum[1], df_sum[2]], df_sum[3])\n",
    "    else:\n",
    "        df_res = df\n",
    "        \n",
    "    final_res = df_res.groupby(['Names', 'Gender']).sum()\n",
    "    result = final_res.sort_values('Count', ascending=True)\n",
    "    top_3_name = result.tail(3)\n",
    "    for name in top_3_name.index:\n",
    "        top_name.append(name[0])\n",
    "    \n",
    "    # количество полов\n",
    "    dynamics_gender['M'] = count_M\n",
    "    dynamics_gender['F'] = count_F\n",
    "    \n",
    "    # количество имен\n",
    "    dynamics_counts['M'] = number_name_M\n",
    "    dynamics_counts['F'] = number_name_F\n",
    "    \n",
    "    \n",
    "    print('Количество полов', dynamics_counts)    \n",
    "    print('Динамика количества имен ', dynamics_counts)\n",
    "    print('Топ имен ', top_name)    \n",
    "    \n",
    " \n",
    "    \n",
    "count_top(1900, 1901, 1899)"
   ]
  }
 ],
 "metadata": {
  "kernelspec": {
   "display_name": "Python 3",
   "language": "python",
   "name": "python3"
  },
  "language_info": {
   "codemirror_mode": {
    "name": "ipython",
    "version": 3
   },
   "file_extension": ".py",
   "mimetype": "text/x-python",
   "name": "python",
   "nbconvert_exporter": "python",
   "pygments_lexer": "ipython3",
   "version": "3.7.6"
  }
 },
 "nbformat": 4,
 "nbformat_minor": 4
}
